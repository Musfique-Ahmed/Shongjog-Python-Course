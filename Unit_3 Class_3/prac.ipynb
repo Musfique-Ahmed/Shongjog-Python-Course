{
 "cells": [
  {
   "cell_type": "markdown",
   "metadata": {},
   "source": [
    "## **Encapsulation**\n"
   ]
  },
  {
   "cell_type": "code",
   "execution_count": null,
   "metadata": {},
   "outputs": [],
   "source": [
    "class BankAccount:\n",
    "    def __init__(self, owner, balance):\n",
    "        self.owner = owner\n",
    "        self.__balance = balance  # Private variable\n",
    "\n",
    "    def get_balance(self):  # Getter method\n",
    "        return self.__balance\n",
    "\n",
    "    def deposit(self, amount):  # Method to update private variable\n",
    "        self.__balance += amount\n"
   ]
  },
  {
   "cell_type": "markdown",
   "metadata": {},
   "source": [
    "**Where & How to Use Encapsulation?**\n",
    "\n",
    "🔹 Protect sensitive data (e.g., passwords, bank balances)\n",
    "\n",
    "🔹 Control how data is accessed or modified\n",
    "\n",
    "🚀 Example: Video Game Character Stats (Health & Power are private!)\n",
    "\n"
   ]
  },
  {
   "cell_type": "code",
   "execution_count": null,
   "metadata": {},
   "outputs": [],
   "source": [
    "class Player:\n",
    "    def __init__(self, name, health):\n",
    "        self.name = name\n",
    "        self.__health = health\n",
    "\n",
    "    def take_damage(self, damage):\n",
    "        self.__health -= damage  # Private health modified safely\n"
   ]
  },
  {
   "cell_type": "markdown",
   "metadata": {},
   "source": [
    "---"
   ]
  },
  {
   "cell_type": "markdown",
   "metadata": {},
   "source": [
    "## **Inheritance**"
   ]
  },
  {
   "cell_type": "code",
   "execution_count": null,
   "metadata": {},
   "outputs": [],
   "source": [
    "class Animal:  # Parent class\n",
    "    def breathe(self):\n",
    "        return \"Breathing...\"\n",
    "\n",
    "class Dog(Animal):  # Child class inherits from Animal\n",
    "    def bark(self):\n",
    "        return \"Woof! Woof!\"\n",
    "\n",
    "dog = Dog()\n",
    "print(dog.breathe())  # ✅ Works because Dog inherits from Animal\n"
   ]
  },
  {
   "cell_type": "markdown",
   "metadata": {},
   "source": [
    "**Where & How to Use Inheritance?**\n",
    "\n",
    "✅ Create multiple similar objects without rewriting code\n",
    "\n",
    "✅ Example: Different types of Vehicles, Animals, or Bank Accounts\n",
    "\n",
    "🚗 Example: Car inherits from Vehicle\n",
    "\n"
   ]
  },
  {
   "cell_type": "code",
   "execution_count": null,
   "metadata": {},
   "outputs": [],
   "source": [
    "class Vehicle:\n",
    "    def move(self):\n",
    "        return \"Moving...\"\n",
    "\n",
    "class Car(Vehicle):  # Car inherits from Vehicle\n",
    "    def honk(self):\n",
    "        return \"Beep! Beep!\"\n"
   ]
  },
  {
   "cell_type": "markdown",
   "metadata": {},
   "source": [
    "---"
   ]
  },
  {
   "cell_type": "markdown",
   "metadata": {},
   "source": [
    "## **Exception Handling**"
   ]
  },
  {
   "cell_type": "code",
   "execution_count": null,
   "metadata": {},
   "outputs": [],
   "source": [
    "try:\n",
    "    x = int(input(\"Enter a number: \"))\n",
    "    y = int(input(\"Enter another number: \"))\n",
    "    result = x / y  # Might cause error\n",
    "except ZeroDivisionError:\n",
    "    print(\"Oops! You cannot divide by zero.\")\n",
    "except ValueError:\n",
    "    print(\"Please enter a valid number.\")\n",
    "finally:\n",
    "    print(\"Program finished!\")\n"
   ]
  },
  {
   "cell_type": "markdown",
   "metadata": {},
   "source": [
    "**Where & How to Use Exception Handling?**\n",
    "\n",
    "🔹 When expecting user input mistakes\n",
    "\n",
    "🔹 When dealing with files or network requests\n",
    "\n",
    "🔹 Preventing crashes in games or apps\n",
    "\n",
    "🎮 Example: Handling invalid input in a game"
   ]
  },
  {
   "cell_type": "code",
   "execution_count": null,
   "metadata": {},
   "outputs": [],
   "source": [
    "try:\n",
    "    age = int(input(\"Enter your age: \"))\n",
    "except ValueError:\n",
    "    print(\"Please enter a number!\")\n"
   ]
  },
  {
   "cell_type": "markdown",
   "metadata": {},
   "source": [
    "---"
   ]
  }
 ],
 "metadata": {
  "language_info": {
   "name": "python"
  }
 },
 "nbformat": 4,
 "nbformat_minor": 2
}
