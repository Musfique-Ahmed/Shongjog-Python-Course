{
 "cells": [
  {
   "cell_type": "code",
   "execution_count": 1,
   "metadata": {},
   "outputs": [
    {
     "name": "stdout",
     "output_type": "stream",
     "text": [
      "Hello, world!\n"
     ]
    }
   ],
   "source": [
    "# Assigning a value to a variable\n",
    "message = \"Hello, world!\"\n",
    "\n",
    "# Accessing the value of a variable\n",
    "print(message)  # Output: Hello, world!"
   ]
  },
  {
   "cell_type": "code",
   "execution_count": 5,
   "metadata": {},
   "outputs": [
    {
     "name": "stdout",
     "output_type": "stream",
     "text": [
      "<class 'str'>\n",
      "<class 'bool'>\n",
      "<class 'list'>\n",
      "<class 'tuple'>\n",
      "<class 'dict'>\n"
     ]
    }
   ],
   "source": [
    "# Numeric types\n",
    "x = 10  # int\n",
    "y = 3.14  # float\n",
    "\n",
    "# Text type\n",
    "message = \"Hello, world!\"  # str\n",
    "print(type(message))  # Output: <class 'str'>\n",
    "\n",
    "# Boolean type\n",
    "is_valid = True  # bool\n",
    "print(type(is_valid))  # Output: <class 'bool'>\n",
    "\n",
    "# Sequence types\n",
    "names = [\"Alice\", \"Bob\", \"Charlie\"]  # list\n",
    "print(type(names))  # Output: <class 'list'>\n",
    "\n",
    "coordinates = (3, 4)  # tuple\n",
    "print(type(coordinates))  # Output: <class 'tuple'>\n",
    "\n",
    "# Mapping type\n",
    "person = {\"name\": \"Alice\", \"age\": 25}  # dict\n",
    "print(type(person))  # Output: <class 'dict'>"
   ]
  }
 ],
 "metadata": {
  "kernelspec": {
   "display_name": "Python 3",
   "language": "python",
   "name": "python3"
  },
  "language_info": {
   "codemirror_mode": {
    "name": "ipython",
    "version": 3
   },
   "file_extension": ".py",
   "mimetype": "text/x-python",
   "name": "python",
   "nbconvert_exporter": "python",
   "pygments_lexer": "ipython3",
   "version": "3.12.8"
  }
 },
 "nbformat": 4,
 "nbformat_minor": 2
}
